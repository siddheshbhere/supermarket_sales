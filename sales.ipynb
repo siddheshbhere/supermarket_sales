{
 "cells": [
  {
   "cell_type": "code",
   "execution_count": 1,
   "metadata": {},
   "outputs": [
    {
     "name": "stdout",
     "output_type": "stream",
     "text": [
      "Requirement already satisfied: kaggle in c:\\users\\vijayratna\\appdata\\local\\programs\\python\\python38\\lib\\site-packages (1.6.17)\n",
      "Requirement already satisfied: python-slugify in c:\\users\\vijayratna\\appdata\\local\\programs\\python\\python38\\lib\\site-packages (from kaggle) (8.0.4)\n"
     ]
    },
    {
     "name": "stderr",
     "output_type": "stream",
     "text": [
      "\n",
      "[notice] A new release of pip available: 22.2.2 -> 24.3.1\n",
      "[notice] To update, run: python.exe -m pip install --upgrade pip\n"
     ]
    },
    {
     "name": "stdout",
     "output_type": "stream",
     "text": [
      "Requirement already satisfied: urllib3 in c:\\users\\vijayratna\\appdata\\local\\programs\\python\\python38\\lib\\site-packages (from kaggle) (1.26.9)\n",
      "Requirement already satisfied: certifi>=2023.7.22 in c:\\users\\vijayratna\\appdata\\local\\programs\\python\\python38\\lib\\site-packages (from kaggle) (2024.12.14)\n",
      "Requirement already satisfied: requests in c:\\users\\vijayratna\\appdata\\local\\programs\\python\\python38\\lib\\site-packages (from kaggle) (2.28.0)\n",
      "Requirement already satisfied: six>=1.10 in c:\\users\\vijayratna\\appdata\\local\\programs\\python\\python38\\lib\\site-packages (from kaggle) (1.15.0)\n",
      "Requirement already satisfied: bleach in c:\\users\\vijayratna\\appdata\\local\\programs\\python\\python38\\lib\\site-packages (from kaggle) (3.3.0)\n",
      "Requirement already satisfied: tqdm in c:\\users\\vijayratna\\appdata\\local\\programs\\python\\python38\\lib\\site-packages (from kaggle) (4.62.3)\n",
      "Requirement already satisfied: python-dateutil in c:\\users\\vijayratna\\appdata\\local\\programs\\python\\python38\\lib\\site-packages (from kaggle) (2.8.1)\n",
      "Requirement already satisfied: packaging in c:\\users\\vijayratna\\appdata\\local\\programs\\python\\python38\\lib\\site-packages (from bleach->kaggle) (20.9)\n",
      "Requirement already satisfied: webencodings in c:\\users\\vijayratna\\appdata\\local\\programs\\python\\python38\\lib\\site-packages (from bleach->kaggle) (0.5.1)\n",
      "Requirement already satisfied: text-unidecode>=1.3 in c:\\users\\vijayratna\\appdata\\local\\programs\\python\\python38\\lib\\site-packages (from python-slugify->kaggle) (1.3)\n",
      "Requirement already satisfied: idna<4,>=2.5 in c:\\users\\vijayratna\\appdata\\local\\programs\\python\\python38\\lib\\site-packages (from requests->kaggle) (3.3)\n",
      "Requirement already satisfied: charset-normalizer~=2.0.0 in c:\\users\\vijayratna\\appdata\\local\\programs\\python\\python38\\lib\\site-packages (from requests->kaggle) (2.0.12)\n",
      "Requirement already satisfied: colorama in c:\\users\\vijayratna\\appdata\\local\\programs\\python\\python38\\lib\\site-packages (from tqdm->kaggle) (0.4.4)\n",
      "Requirement already satisfied: pyparsing>=2.0.2 in c:\\users\\vijayratna\\appdata\\local\\programs\\python\\python38\\lib\\site-packages (from packaging->bleach->kaggle) (2.4.7)\n"
     ]
    }
   ],
   "source": [
    "!pip3 install kaggle"
   ]
  },
  {
   "cell_type": "code",
   "execution_count": 2,
   "metadata": {},
   "outputs": [
    {
     "name": "stdout",
     "output_type": "stream",
     "text": [
      "Dataset URL: https://www.kaggle.com/datasets/aungpyaeap/supermarket-sales\n"
     ]
    }
   ],
   "source": [
    "from kaggle.api.kaggle_api_extended import KaggleApi\n",
    "\n",
    "# Initialize the Kaggle API\n",
    "api = KaggleApi()\n",
    "\n",
    "# Authenticate using the kaggle.json file\n",
    "api.authenticate()  \n",
    "\n",
    "# Download the dataset\n",
    "dataset_name = 'aungpyaeap/supermarket-sales'  # Replace with the dataset identifier\n",
    "download_path = r'F:\\supermarket_sales'  # Specify the folder where you want to download the dataset\n",
    "\n",
    "api.dataset_download_files(dataset_name, path=download_path, unzip=True) "
   ]
  },
  {
   "cell_type": "code",
   "execution_count": 3,
   "metadata": {},
   "outputs": [],
   "source": [
    "import pandas as pd\n",
    "import sqlite3\n",
    "\n",
    "# Load CSV file\n",
    "df = pd.read_csv('F:/supermarket_sales/supermarket_sales - Sheet1.csv')\n",
    "\n",
    "# Rename columns to match SQLite naming conventions (lowercase and replace spaces with underscores)\n",
    "df.columns = df.columns.str.lower().str.replace(' ', '_')\n",
    "\n",
    "# Convert 'date' column from MM/DD/YYYY to YYYY-MM-DD\n",
    "df['date'] = pd.to_datetime(df['date'], format='%m/%d/%Y').dt.strftime('%Y-%m-%d')\n",
    "\n",
    "# Establish SQLite connection\n",
    "conn = sqlite3.connect('sales.db')\n",
    "cursor = conn.cursor()\n",
    "\n",
    "# 1. Transforming the Branch Data (unique branch, city combinations)\n",
    "branch_df = df[['branch', 'city']].drop_duplicates()\n",
    "branch_df['branch_id'] = range(1, len(branch_df) + 1)  # Automatically creating the branch_id\n",
    "branch_df = branch_df[['branch_id', 'branch', 'city']]\n",
    "\n",
    "# 2. Transforming the Customer Data (unique customer_type, gender combinations)\n",
    "customer_df = df[['customer_type', 'gender']].drop_duplicates()\n",
    "customer_df['customer_id'] = range(1, len(customer_df) + 1)  # Automatically creating the customer_id\n",
    "customer_df = customer_df[['customer_id', 'customer_type', 'gender']]\n",
    "\n",
    "# 3. Transforming the Product Data (unique product_line, unit_price, cogs combinations)\n",
    "product_df = df[['product_line', 'unit_price', 'cogs']].drop_duplicates()\n",
    "product_df['product_id'] = range(1, len(product_df) + 1)  # Automatically creating the product_id\n",
    "product_df = product_df[['product_id', 'product_line', 'unit_price', 'cogs']]\n",
    "\n",
    "# 4. Insert data into the Branch Dimension\n",
    "branch_df.to_sql('branch', conn, if_exists='replace', index=False)\n",
    "\n",
    "# 5. Insert data into the Customer Dimension\n",
    "customer_df.to_sql('customer', conn, if_exists='replace', index=False)\n",
    "\n",
    "# 6. Insert data into the Product Dimension\n",
    "product_df.to_sql('product', conn, if_exists='replace', index=False)\n",
    "\n",
    "# 7. Mapping customer, product, and branch ids from the dimensions into the sales data\n",
    "df = df.merge(branch_df, on=['branch','city'], how='left')\n",
    "df = df.merge(customer_df, on=['customer_type', 'gender'], how='left')\n",
    "df = df.merge(product_df, on=['product_line', 'unit_price', 'cogs'], how='left')\n",
    "\n",
    "# 8. Selecting required columns for the Sales Fact Table\n",
    "sales_data = df[['invoice_id', 'branch_id', 'customer_id', 'product_id', 'quantity', 'total', 'gross_income', 'date', 'time', 'payment', 'rating']]\n",
    "\n",
    "# 9. Insert data into the Sales Fact Table\n",
    "sales_data.to_sql('sales', conn, if_exists='replace', index=False)\n",
    "\n",
    "# Commit changes and close connection\n",
    "conn.commit()\n",
    "conn.close()"
   ]
  },
  {
   "cell_type": "code",
   "execution_count": 4,
   "metadata": {},
   "outputs": [],
   "source": [
    "# Establish SQLite connection\n",
    "conn = sqlite3.connect('sales.db')\n",
    "cursor = conn.cursor()\n",
    "\n",
    "# Load SQL query data into data frame\n",
    "export_df = pd.read_sql(\"\"\"WITH CTE AS(\n",
    "SELECT \n",
    "    b.branch,\n",
    "    p.product_line,\n",
    "    ROUND(SUM(s.total), 2) AS total_sales,\n",
    "    RANK() OVER (PARTITION BY b.branch ORDER BY ROUND(SUM(s.total), 2) DESC) AS r\n",
    "FROM \n",
    "    sales s\n",
    "JOIN \n",
    "    branch b ON s.branch_id = b.branch_id\n",
    "JOIN \n",
    "    product p ON s.product_id = p.product_id\n",
    "GROUP BY \n",
    "    b.branch, p.product_line\n",
    ")\n",
    "SELECT branch,\n",
    "\t   product_line,\n",
    "\t   total_sales \n",
    "FROM CTE \n",
    "WHERE r <= 3;\n",
    "\"\"\", conn)\n",
    "\n",
    "# Export data frame data to CSV file\n",
    "export_df.to_csv(\"report.csv\",index=False)\n",
    "\n",
    "# Commit changes and close connection\n",
    "conn.commit()\n",
    "conn.close()"
   ]
  },
  {
   "cell_type": "code",
   "execution_count": null,
   "metadata": {},
   "outputs": [],
   "source": []
  }
 ],
 "metadata": {
  "kernelspec": {
   "display_name": "Python 3",
   "language": "python",
   "name": "python3"
  },
  "language_info": {
   "codemirror_mode": {
    "name": "ipython",
    "version": 3
   },
   "file_extension": ".py",
   "mimetype": "text/x-python",
   "name": "python",
   "nbconvert_exporter": "python",
   "pygments_lexer": "ipython3",
   "version": "3.8.0"
  }
 },
 "nbformat": 4,
 "nbformat_minor": 2
}
